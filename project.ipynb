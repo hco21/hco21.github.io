{
  "cells": [
    {
      "cell_type": "raw",
      "metadata": {},
      "source": [
        "---\n",
        "title: DANL210 Final Project\n",
        "subtitle: \"Analyzing the Correlation between High ESG Rates and Financial Stability\"\n",
        "author: \n",
        "  - Hannah Olejniczak\n",
        "\n",
        "toc: true\n",
        "toc-title: \"Table of Contents\"\n",
        "toc-depth: 2\n",
        "number-sections: true\n",
        "\n",
        "fig-width: 9\n",
        "\n",
        "execute:\n",
        "  code-tools: true\n",
        "  message: false\n",
        "  warning: false\n",
        "\n",
        "from: markdown+emoji\n",
        "---"
      ]
    },
    {
      "cell_type": "markdown",
      "metadata": {},
      "source": [
        "```{r setup}\n",
        "#| include: false\n",
        "library(tidyverse)\n",
        "library(skimr)\n",
        "library(ggthemes)\n",
        "library(hrbrthemes)\n",
        "\n",
        "library(reticulate)\n",
        "use_python(\"C:\\\\Users\\\\holej\\\\ANACON~1\\\\python.exe\")\n",
        "\n",
        "theme_set(theme_ipsum()+\n",
        "          theme(strip.background =element_rect(fill=\"lightgray\"),\n",
        "                axis.title.x = \n",
        "                  element_text(angle = 0,\n",
        "                               size = rel(1.33),\n",
        "                               margin = margin(10,0,0,0)),\n",
        "                axis.title.y = \n",
        "                  element_text(angle = 0,\n",
        "                               size = rel(1.33),\n",
        "                               margin = margin(0,10,0,0))\n",
        "                )\n",
        "          )\n",
        "```\n",
        "\n",
        "\n",
        "\n",
        "# Introduction\n",
        "\n",
        "Looking at a companies ESG when making investment decisions is very beneficial to the investors because having a good record on ESG corresponds to a reduced investment risk. NYU Stern Center for Sustainable Business did an analysis of over 1,000 studies published since 2015 and showed that a strong management of ESG is linked to improved Return on Equity, Return on Assets, stock price and operational efficiency.\n",
        "\n",
        "The specific issue that this project is going to address is the skepticism of some investors towards ESG integration. The analysis shown will provide evidence of the financial benefits of incorporating ESG metrics into investment strategies. \n"
      ]
    },
    {
      "cell_type": "code",
      "metadata": {},
      "source": [
        "import pandas as pd\n",
        "import seaborn as sns\n",
        "import matplotlib.pyplot as plt\n",
        "import numpy as np"
      ],
      "execution_count": null,
      "outputs": []
    },
    {
      "cell_type": "markdown",
      "metadata": {},
      "source": [
        "# Data Collection\n",
        "\n",
        "My python code for collecting this data has been turned in through Bright Space. Here I am importing my csv files to run analysis on the data. "
      ]
    },
    {
      "cell_type": "code",
      "metadata": {},
      "source": [
        "esg_cont_data_path = 'C:/Users/holej/Documents/hco21.github.io/data/esg_ratings_and_cont_level.csv'\n",
        "balance_sheet_data_path = 'C:/Users/holej/Documents/hco21.github.io/data/balance_sheet_final.csv'\n",
        "historical_data_path = 'C:/Users/holej/Documents/hco21.github.io/data/history_data_final.csv'\n",
        "income_statements_data_path = 'C:/Users/holej/Documents/hco21.github.io/data/income_statements_final.csv'\n",
        "\n",
        "esg_cont_data = pd.read_csv(esg_cont_data_path)\n",
        "balance_sheet_data = pd.read_csv(balance_sheet_data_path)\n",
        "historical_data = pd.read_csv(historical_data_path)\n",
        "income_statements_data = pd.read_csv(income_statements_data_path)\n",
        "\n",
        "esg_cont_data = esg_cont_data.rename(columns ={'symbol':'Symbol'})"
      ],
      "execution_count": null,
      "outputs": []
    },
    {
      "cell_type": "markdown",
      "metadata": {},
      "source": [
        "# Descriptive Statistics\n"
      ]
    },
    {
      "cell_type": "code",
      "metadata": {},
      "source": [
        "esg_cont_data.describe()\n",
        "\n",
        "plt.figure(figsize = (8,6))\n",
        "sns.histplot(data = esg_cont_data, x = 'total', bins = 20, kde = True)\n",
        "plt.title('Distribution of Total ESG Scores')\n",
        "plt.xlabel('Total ESG Score')\n",
        "plt.ylabel('Frequency')\n",
        "plt.show()"
      ],
      "execution_count": null,
      "outputs": []
    },
    {
      "cell_type": "markdown",
      "metadata": {},
      "source": [
        "This graph shows that the distribution of Total ESG Scores are normally distributed across all companies. \n"
      ]
    },
    {
      "cell_type": "code",
      "metadata": {},
      "source": [
        "historical_stats = historical_data['open'].describe()\n",
        "print(historical_stats)\n",
        "\n",
        "# Create distribution plot for 'open' column in historical data\n",
        "plt.figure(figsize=(8, 6))\n",
        "sns.histplot(data=historical_data, x='Open', bins=20, kde=True)\n",
        "plt.title('Distribution of Open Prices')\n",
        "plt.xlabel('Open Price')\n",
        "plt.ylabel('Frequency')\n",
        "plt.show()"
      ],
      "execution_count": null,
      "outputs": []
    },
    {
      "cell_type": "markdown",
      "metadata": {},
      "source": [
        "It can be seen here that most of the companies have the same open price every day. "
      ]
    },
    {
      "cell_type": "code",
      "metadata": {},
      "source": [
        "esg_corr = esg_cont_data.corr()\n",
        "plt.figure(figsize=(8, 6))\n",
        "sns.heatmap(esg_corr, annot=True, cmap='coolwarm', fmt=\".2f\", linewidths = .5)\n",
        "plt.title('Correlation Heatmap for ESG Data')\n",
        "plt.show()"
      ],
      "execution_count": null,
      "outputs": []
    },
    {
      "cell_type": "code",
      "metadata": {},
      "source": [
        "balance_sheet_corr = balance_sheet_data.corr()\n",
        "plt.figure(figsize=(10, 8))\n",
        "sns.heatmap(balance_sheet_corr, annot=True, cmap='coolwarm', fmt=\".2f\")\n",
        "plt.title('Correlation Heatmap for Balance Sheet Data')\n",
        "plt.show()"
      ],
      "execution_count": null,
      "outputs": []
    },
    {
      "cell_type": "markdown",
      "metadata": {},
      "source": [
        "As seen above, I wrote code to generate heat maps however they were only showing up blank. "
      ]
    },
    {
      "cell_type": "code",
      "metadata": {},
      "source": [
        "# retrieves a list of the companies in the top 10% total ESG scores\n",
        "ninety_percentile = esg_cont_data['total'].quantile(.90)\n",
        "top_ten_per_esg = esg_cont_data[esg_cont_data['total'] > ninety_percentile]\n",
        "top_ten = pd.DataFrame(top_ten_per_esg)\n",
        "\n",
        "plt.figure(figsize = (8,6))\n",
        "sns.histplot(data = top_ten, x = 'total', bins = 20, kde = True)\n",
        "plt.title('Distribution of Top 10% ESG Scores')\n",
        "plt.xlabel('Top 10% ESG Score')\n",
        "plt.ylabel('Frequency')\n",
        "plt.show()"
      ],
      "execution_count": null,
      "outputs": []
    },
    {
      "cell_type": "markdown",
      "metadata": {},
      "source": [
        "This graph shows the portion of the companies that are in the top 10% of ESG scores."
      ]
    },
    {
      "cell_type": "code",
      "metadata": {},
      "source": [
        "retrieves a list of the companies in the lowest 10% total ESG scores\n",
        "ten_percentile = esg_cont_data['total'].quantile(.10)\n",
        "bot_ten_per_esg = esg_cont_data[esg_cont_data['total'] < ten_percentile]\n",
        "bot_ten = pd.DataFrame(bot_ten_per_esg)\n",
        "\n",
        "plt.figure(figsize = (7,6))\n",
        "sns.histplot(data = bot_ten, x = 'total', bins = 20, kde = True)\n",
        "plt.title('Distribution of Bottom 10% ESG Scores')\n",
        "plt.xlabel('Bottom 10% ESG Score')\n",
        "plt.ylabel('Frequency')"
      ],
      "execution_count": null,
      "outputs": []
    },
    {
      "cell_type": "code",
      "metadata": {},
      "source": [
        "# Plot scatter plot for environmental (env) and social (soc) components\n",
        "\n",
        "plt.figure(figsize=(10, 6))\n",
        "\n",
        "plt.scatter(top_ten['env'], top_ten['soc'], color='blue', label='Top 10%')\n",
        "plt.scatter(bot_ten['env'], bot_ten['soc'], color='red', label='Bottom 10%')\n",
        "\n",
        "\n",
        "plt.xlabel('Environmental Score')\n",
        "plt.ylabel('Social Score')\n",
        "plt.title('Scatter Plot of Environmental vs. Social Scores')\n",
        "plt.legend()\n",
        "plt.grid(True)\n",
        "plt.show()\n"
      ],
      "execution_count": null,
      "outputs": []
    },
    {
      "cell_type": "markdown",
      "metadata": {},
      "source": [
        "Here it can be seen that the companies in the top 10% have both a higher Social and Environmental score than those companies in the bottom 10%. "
      ]
    },
    {
      "cell_type": "code",
      "metadata": {},
      "source": [
        "# creating new data frames of balance sheet data with only the top 10% and bottom\n",
        "# 10% percent companies when looking at esg\n",
        "top_ten_bs = pd.merge(top_ten, balance_sheet_data, on ='Symbol')\n",
        "bottom_ten_bs = pd.merge(bot_ten, balance_sheet_data, on = 'Symbol')\n",
        "# creating new data frames of income statements data with only the top 10% and bottom\n",
        "# 10% percent companies when looking at esg\n",
        "top_ten_is = pd.merge(top_ten, income_statements_data, on ='Symbol')\n",
        "bottom_ten_is = pd.merge(bot_ten, income_statements_data, on ='Symbol')\n",
        "# creating new data frames of historical data with only the top 10% and bottom\n",
        "# 10% percent companies when looking at esg\n",
        "top_ten_hist = pd.merge(top_ten, historical_data, on ='Symbol')\n",
        "bottom_ten_hist = pd.merge(bot_ten, historical_data, on ='Symbol')"
      ],
      "execution_count": null,
      "outputs": []
    },
    {
      "cell_type": "markdown",
      "metadata": {},
      "source": [
        "# Exploratory Data Analysis\n",
        "\n",
        "I will now look to see if there is a correlation between a company having a high ESG score and also being more financially reliable. "
      ]
    },
    {
      "cell_type": "code",
      "metadata": {},
      "source": [
        "# Plot scatter plot for ESG score vs. Stockholders Equity\n",
        "plt.figure(figsize=(10, 6))\n",
        "\n",
        "plt.scatter(top_ten_bs['total'], top_ten_bs['Stockholders Equity'], color='blue', label='Top 10%')\n",
        "plt.scatter(bottom_ten_bs['total'], bottom_ten_bs['Stockholders Equity'], color='red', label='Bottom 10%')\n",
        "\n",
        "plt.xlabel('Total ESG Score')\n",
        "plt.ylabel('Stockholders Equity')\n",
        "plt.title('Scatter Plot of ESG Score vs. Stockholders Equity')\n",
        "plt.legend()\n",
        "plt.grid(True)\n",
        "plt.show()"
      ],
      "execution_count": null,
      "outputs": []
    },
    {
      "cell_type": "markdown",
      "metadata": {},
      "source": [
        "This scatter plot shows the relationship between ESG score and stockholders equity. Although many of the points are in the same range, the only companies that have both a high ESG score and high stockholders equity value are in the top 10% of companies. A higher stockholders equity indicates a company having more financial stability. \n"
      ]
    },
    {
      "cell_type": "code",
      "metadata": {},
      "source": [
        "plt.figure(figsize=(10, 6))\n",
        "\n",
        "plt.scatter(top_ten_is['total'], top_ten_is['EBIT'], color='blue', label='Top 10%')\n",
        "plt.scatter(bottom_ten_is['total'], bottom_ten_is['EBIT'], color='red', label='Bottom 10%')\n",
        "\n",
        "plt.xlabel('Total ESG Score')\n",
        "plt.ylabel('Total Operating Income')\n",
        "plt.title('Scatter Plot of ESG Score vs. Operating Income')\n",
        "plt.legend()\n",
        "plt.grid(True)\n",
        "plt.show()"
      ],
      "execution_count": null,
      "outputs": []
    },
    {
      "cell_type": "markdown",
      "metadata": {},
      "source": [
        "In this graph we can see that only companies in the top 10% ESG scores have high operating incomes. This indicates the companies ability to profit from it's operations and tells someone looking at the data that the company will have longevity. \n",
        "\n",
        "# Significance of the Project\n",
        "\n",
        "The data analysis done in this project can be applied to various real-world applications. For example someone looking to buy a house may use an analysis similar to this one to see the trends in the housing market, crime rate in different areas, housing price in different areas and so many more areas. Other areas where data analysis can be extremely beneifical is in athletics, say someone wanted to do really good in their fantasy football league, they could conduct a data analysis like this one to ensure they are picking the best people for their team. \n",
        "\n",
        "Those are two very different examples of how one could use data analysis but it shows how versatile and useful it really can be. \n",
        "\n",
        "# References \n",
        "\n",
        "For this project I used:\n",
        "-Class Notes\n",
        "-ChatGPT\n",
        "-various Websites (listed below)\n",
        "\n",
        "My main use for ChatGPT was in learning how ESG and financial analysis are connected and some ways that I could show that using the data I had collected. I also used it to debug my code as I was writing it. \n",
        "\n",
        "I also got help from a classmate to complete my data collection code. \n",
        "\n",
        "Links: \n",
        "\n",
        "https://concentricsolutions.com/images/os-resources/OS%20White%20Paper%20-%20Align%20ESG-Fin%20Reporting.pdf\n",
        "\n",
        "https://www.wolterskluwer.com/en/expert-insights/the-importance-of-esg-as-a-key-drive-of-corporate-performance\n",
        "\n",
        "https://www.sigmacomputing.com/resources/learn/data-analytics-applications\n"
      ]
    }
  ],
  "metadata": {
    "kernelspec": {
      "name": "python3",
      "language": "python",
      "display_name": "Python 3"
    }
  },
  "nbformat": 4,
  "nbformat_minor": 4
}